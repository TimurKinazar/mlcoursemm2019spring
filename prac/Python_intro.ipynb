{
 "cells": [
  {
   "cell_type": "markdown",
   "metadata": {
    "slideshow": {
     "slide_type": "-"
    }
   },
   "source": [
    "# Python"
   ]
  },
  {
   "cell_type": "markdown",
   "metadata": {},
   "source": [
    "## Дзен Python"
   ]
  },
  {
   "cell_type": "markdown",
   "metadata": {},
   "source": [
    "* Красивое лучше, чем уродливое.\n",
    "* Явное лучше, чем неявное.\n",
    "* Простое лучше, чем сложное.\n",
    "* Сложное лучше, чем запутанное.\n",
    "* Плоское лучше, чем вложенное.\n",
    "* Разреженное лучше, чем плотное.\n",
    "* Читаемость имеет значение.\n",
    "* Особые случаи не настолько особые, чтобы нарушать правила.\n",
    "* При этом практичность важнее безупречности.\n",
    "* Ошибки никогда не должны замалчиваться.\n",
    "* Если они не замалчиваются явно.\n",
    "* Встретив двусмысленность, отбрось искушение угадать.\n",
    "* Должен существовать один и, желательно, только один очевидный способ сделать это.\n",
    "* Хотя он поначалу может быть и не очевиден, если вы не голландец.\n",
    "* Сейчас лучше, чем никогда.\n",
    "* Хотя никогда зачастую лучше, чем прямо сейчас.\n",
    "* Если реализацию сложно объяснить — идея плоха.\n",
    "* Если реализацию легко объяснить — идея, возможно, хороша.\n",
    "* Пространства имён — отличная штука! Будем делать их больше!"
   ]
  },
  {
   "cell_type": "markdown",
   "metadata": {
    "slideshow": {
     "slide_type": "-"
    }
   },
   "source": [
    "## Установка"
   ]
  },
  {
   "cell_type": "markdown",
   "metadata": {
    "slideshow": {
     "slide_type": "-"
    }
   },
   "source": [
    "### Версия Python\n",
    "В данной презентации используется Python 3.7.2. Заметим, что между Python2 и Python3 есть разница (хотя на первый взгляд и незначительная - см. ниже). "
   ]
  },
  {
   "cell_type": "markdown",
   "metadata": {
    "slideshow": {
     "slide_type": "-"
    }
   },
   "source": [
    "### Откуда ставить\n",
    "Есть два варианта:\n",
    "* Поставить Python c официального сайта - https://www.python.org/downloads/ - и затем ставить пакеты с помощью интерфейса командной строки `pip` (\"Pip Installs Packages\")\n",
    "* Поставить и Python, и огромный набор пакетов сразу с помощью системы установки пакетов `Anaconda` - https://www.anaconda.com/distribution/ - и затем управлять пакетами с помощью графического интерфейса\n",
    "\n",
    "Оба варианта имеют свои плюсы и минусы (в первом есть полный контроль за всем, но он не так удобен для начинающего пользователя, как второй). В данной презентации будет использоваться вариант с использованием pip. "
   ]
  },
  {
   "cell_type": "markdown",
   "metadata": {
    "slideshow": {
     "slide_type": "-"
    }
   },
   "source": [
    "***"
   ]
  },
  {
   "cell_type": "markdown",
   "metadata": {
    "slideshow": {
     "slide_type": "-"
    }
   },
   "source": [
    "## Работа в блокнотах Jupyter\n",
    "Есть три варианта запускать код:\n",
    "1. Сохранять в файле \\*.py, после чего запускать интерпрератор python с подачей этого файла на вход (обычный способ)\n",
    "2. Использовать интерактивный режим в командной строке (запуск интерпретатора `python` и ввод команд справа от `>>>`)\n",
    "3. Использовать интерактивный режим в веб-режиме (Jupyter)\n",
    "\n",
    "В данной презентации будем рассматривать третий интерактивный режим с помощью `Jupyter`."
   ]
  },
  {
   "cell_type": "markdown",
   "metadata": {
    "slideshow": {
     "slide_type": "-"
    }
   },
   "source": [
    "### Установка jupyter\n",
    "Делается с помощью `pip install jupyter`"
   ]
  },
  {
   "cell_type": "markdown",
   "metadata": {
    "slideshow": {
     "slide_type": "-"
    }
   },
   "source": [
    "### Запуск jupyter\n",
    "После установки запуск происоходит с помощью команды `jupyter-notebook`. Браузер автоматически откроет главное командное окно jupyter с заголовком \"Home\". Для запуска нового ноутбука нужно будет нажать на кнопку справа \"New\" и выбрать интерпретатор - Python 3."
   ]
  },
  {
   "cell_type": "markdown",
   "metadata": {
    "slideshow": {
     "slide_type": "-"
    }
   },
   "source": [
    "### Ячейки (cell)\n",
    "Ячейки бывают двух типов: ячейки кода и ячейки разметки. \n",
    "\n",
    "В ячейках кода пишется код (точно так же, как и в обычном \\*.py). \n",
    "\n",
    "В ячейках разметки пишется обычный поясняющий текст (есть неплохая поддержка ТеХ: $\\sum_{i=0}^{\\infty}\\frac{1}{x^{i}}$ )."
   ]
  },
  {
   "cell_type": "markdown",
   "metadata": {
    "slideshow": {
     "slide_type": "-"
    }
   },
   "source": [
    "### Особенности ячеек кода\n",
    "* Обычно код запускается ячейка за ячейкой (в любом порядке), кнопка \"Run\"\n",
    "* Если код \"завис\", то делается прерывание ядра (кнопка \"Interrupt\", аналог \"Ctrl-C\" в консоли)\n",
    "* В совсем запущенных случаях нужно делать перезапуск ядра с самого начала (кнопка \"Restart\")\n",
    "* При прерывании ядра значения переменных сохраняются, при перезапуске - нет"
   ]
  },
  {
   "cell_type": "markdown",
   "metadata": {
    "slideshow": {
     "slide_type": "-"
    }
   },
   "source": [
    "### Запуск системных команд\n",
    "Делается с помощью `!команда`."
   ]
  },
  {
   "cell_type": "markdown",
   "metadata": {},
   "source": [
    "Создание шаблонных файлов для последующего использования"
   ]
  },
  {
   "cell_type": "code",
   "execution_count": 1,
   "metadata": {},
   "outputs": [],
   "source": [
    "!echo \"def myfunc1():\\n\\tprint('My func 1')\\n\\ndef myfunc2(x, y=None):\\n\\tif y is not None:\\n\\t\\tprint(x, y)\\n\\telse:\\n\\t\\tprint(x)\\n\\treturn\" > mypackage.py\n",
    "!echo \"def mynewfunc1():\\n\\tprint('My new func 1')\\n\\ndef mynewfunc2(x, y=None):\\n\\tif y is not None:\\n\\t\\tprint(x, y)\\n\\telse:\\n\\t\\tprint(x)\\n\\treturn\" > mypackage2.py\n",
    "!mkdir -p tst/folder\n",
    "!echo \"def myfunc1():\\n\\tprint('My func 1')\\n\\ndef myfunc2(x, y=None):\\n\\tif y is not None:\\n\\t\\tprint(x, y)\\n\\telse:\\n\\t\\tprint(x)\\n\\treturn\" > tst/folder/deeppackage.py"
   ]
  },
  {
   "cell_type": "code",
   "execution_count": 2,
   "metadata": {
    "slideshow": {
     "slide_type": "-"
    }
   },
   "outputs": [
    {
     "name": "stdout",
     "output_type": "stream",
     "text": [
      "def myfunc1():\r\n",
      "\tprint('My func 1')\r\n",
      "\r\n",
      "def myfunc2(x, y=None):\r\n",
      "\tif y is not None:\r\n",
      "\t\tprint(x, y)\r\n",
      "\telse:\r\n",
      "\t\tprint(x)\r\n",
      "\treturn\r\n"
     ]
    }
   ],
   "source": [
    "!cat mypackage.py"
   ]
  },
  {
   "cell_type": "markdown",
   "metadata": {},
   "source": [
    "> Здесь и далее подразумевается, что мы работаем на \\*nix-подобной системе (Linux, MacOS). Поэтому используем соответствующие команды: `cat` - напечатать содержимое файла на экран, и `ls` - просмотреть содержимое каталога. Для Windows этими командами будут, соостветственно, `type` и `dir`."
   ]
  },
  {
   "cell_type": "markdown",
   "metadata": {
    "slideshow": {
     "slide_type": "-"
    }
   },
   "source": [
    "***"
   ]
  },
  {
   "cell_type": "markdown",
   "metadata": {},
   "source": [
    "## Базовые замечания"
   ]
  },
  {
   "cell_type": "markdown",
   "metadata": {},
   "source": [
    "### Регистрозависимость\n",
    "Все идентификаторы (названия служебных слов, переменных, функций, классов, пакетов и пр.) регистрозависимые."
   ]
  },
  {
   "cell_type": "code",
   "execution_count": 3,
   "metadata": {},
   "outputs": [
    {
     "name": "stdout",
     "output_type": "stream",
     "text": [
      "a = 20 A = 10\n"
     ]
    }
   ],
   "source": [
    "A = 10\n",
    "a = 20\n",
    "print(\"a =\", a, \"A =\", A)"
   ]
  },
  {
   "cell_type": "markdown",
   "metadata": {},
   "source": [
    "### Индексация\n",
    "Индексы внутри последовательных структур данных всегда начинаются с `0`."
   ]
  },
  {
   "cell_type": "code",
   "execution_count": 4,
   "metadata": {},
   "outputs": [
    {
     "name": "stdout",
     "output_type": "stream",
     "text": [
      "1\n"
     ]
    }
   ],
   "source": [
    "lis = [1, 2, 3, 4]\n",
    "print(lis[0])"
   ]
  },
  {
   "cell_type": "markdown",
   "metadata": {},
   "source": [
    "### (!!!) Выделение блоков кода\n",
    "Многострочные блоки кода одного уровня, такие как условные конструкции, циклы и пр., всегда выделяются с помощью одинакового числа отступов (пробелы или табы). Лучше использовать отступ в 4 пробела.\n",
    "\n",
    "Если очень хочется поместить в одну строку несколько конструкций, можно пользоваться точкой с запятой `;`"
   ]
  },
  {
   "cell_type": "code",
   "execution_count": 5,
   "metadata": {},
   "outputs": [
    {
     "name": "stdout",
     "output_type": "stream",
     "text": [
      "x > 5\n",
      "First print.\n",
      "Second print.\n"
     ]
    }
   ],
   "source": [
    "x = 7\n",
    "if x > 5:\n",
    "    print(\"x > 5\")\n",
    "else:\n",
    "    print(\"x <= 5\")\n",
    "\n",
    "print('First print.'); print('Second print.')    "
   ]
  },
  {
   "cell_type": "markdown",
   "metadata": {},
   "source": [
    "### Комментарии\n",
    "* Однострочный комментарий начинается с символа `#`, который должен быть выровнен так же, как и блок кода, к которому он относится (если идет первым в строке)\n",
    "* Многострочный комментарий начинается и заканчивается тройной кавычкой `\"\"\"`"
   ]
  },
  {
   "cell_type": "code",
   "execution_count": 6,
   "metadata": {},
   "outputs": [
    {
     "name": "stdout",
     "output_type": "stream",
     "text": [
      "x < 2\n",
      "End of comments\n"
     ]
    }
   ],
   "source": [
    "# Comment 1\n",
    "x = 1 # Comment 2\n",
    "if x < 2:\n",
    "    # Comment 3\n",
    "    print(\"x < 2\")\n",
    "\"\"\"\n",
    "Multi-line \n",
    "comment\n",
    "\"\"\"\n",
    "print(\"End of comments\")"
   ]
  },
  {
   "cell_type": "markdown",
   "metadata": {},
   "source": [
    "## Импорт модулей (пакетов)"
   ]
  },
  {
   "cell_type": "markdown",
   "metadata": {},
   "source": [
    "**Модуль** (**библиотека**) в Python – это просто файл с расширением ‘.py’, в котором определены некоторые функции и / или классы."
   ]
  },
  {
   "cell_type": "markdown",
   "metadata": {},
   "source": [
    "Есть два способа использования модулей:\n",
    "* Загрузка в текущее пространство имен\n",
    "* Загрузка в новое именованное пространство имен\n",
    "\n",
    "Содержимое уже загруженного модуля можно посмотреть с помощью команды `dir`."
   ]
  },
  {
   "cell_type": "code",
   "execution_count": 7,
   "metadata": {},
   "outputs": [],
   "source": [
    "import mypackage # Загружаем все из mypackage в пространство имен mypackage\n",
    "from mypackage2 import * # Загружаем все из mypackage2 в текущее пространство имен"
   ]
  },
  {
   "cell_type": "code",
   "execution_count": 8,
   "metadata": {},
   "outputs": [
    {
     "data": {
      "text/plain": [
       "['__builtins__',\n",
       " '__cached__',\n",
       " '__doc__',\n",
       " '__file__',\n",
       " '__loader__',\n",
       " '__name__',\n",
       " '__package__',\n",
       " '__spec__',\n",
       " 'myfunc1',\n",
       " 'myfunc2']"
      ]
     },
     "execution_count": 8,
     "metadata": {},
     "output_type": "execute_result"
    }
   ],
   "source": [
    "dir(mypackage)"
   ]
  },
  {
   "cell_type": "code",
   "execution_count": 9,
   "metadata": {},
   "outputs": [
    {
     "name": "stdout",
     "output_type": "stream",
     "text": [
      "def myfunc1():\r\n",
      "\tprint('My func 1')\r\n",
      "\r\n",
      "def myfunc2(x, y=None):\r\n",
      "\tif y is not None:\r\n",
      "\t\tprint(x, y)\r\n",
      "\telse:\r\n",
      "\t\tprint(x)\r\n",
      "\treturn\r\n"
     ]
    }
   ],
   "source": [
    "!cat mypackage.py"
   ]
  },
  {
   "cell_type": "code",
   "execution_count": 10,
   "metadata": {},
   "outputs": [
    {
     "name": "stdout",
     "output_type": "stream",
     "text": [
      "def mynewfunc1():\r\n",
      "\tprint('My new func 1')\r\n",
      "\r\n",
      "def mynewfunc2(x, y=None):\r\n",
      "\tif y is not None:\r\n",
      "\t\tprint(x, y)\r\n",
      "\telse:\r\n",
      "\t\tprint(x)\r\n",
      "\treturn\r\n"
     ]
    }
   ],
   "source": [
    "!cat mypackage2.py"
   ]
  },
  {
   "cell_type": "code",
   "execution_count": 11,
   "metadata": {},
   "outputs": [
    {
     "name": "stdout",
     "output_type": "stream",
     "text": [
      "My func 1\n",
      "My new func 1\n"
     ]
    }
   ],
   "source": [
    "mypackage.myfunc1() # Обращение через именованное пространство имен\n",
    "mynewfunc1() # Обращение через глобальное пространство имен"
   ]
  },
  {
   "cell_type": "markdown",
   "metadata": {},
   "source": [
    "* Можно из модуля загрузить одну или несколько функций, не загружая остальные."
   ]
  },
  {
   "cell_type": "code",
   "execution_count": 12,
   "metadata": {},
   "outputs": [
    {
     "name": "stdout",
     "output_type": "stream",
     "text": [
      "My func 1\n"
     ]
    }
   ],
   "source": [
    "from mypackage import myfunc1 # Загружаем только функцию myfunc1\n",
    "myfunc1()"
   ]
  },
  {
   "cell_type": "markdown",
   "metadata": {},
   "source": [
    "* Можно при загрузке поменять название модуля или функций"
   ]
  },
  {
   "cell_type": "code",
   "execution_count": 13,
   "metadata": {},
   "outputs": [
    {
     "name": "stdout",
     "output_type": "stream",
     "text": [
      "My func 1\n",
      "My func 1\n"
     ]
    }
   ],
   "source": [
    "import mypackage as yourpackage # Переименовываем название модуля\n",
    "from mypackage import myfunc1 as yourfunc1 # Переименовываем название функции\n",
    "yourpackage.myfunc1()\n",
    "yourfunc1()"
   ]
  },
  {
   "cell_type": "markdown",
   "metadata": {},
   "source": [
    "* Если пользовательский модуль (пакет) лежит в другом каталоге (например, ./path1/path2/mymodule.py), то существуют два способа загрузить этот модуль:\n",
    "    1. С помощью относительного импорта\n",
    "    2. С помощью добавления адреса каталога в список просматриваемых Python путей"
   ]
  },
  {
   "cell_type": "code",
   "execution_count": 14,
   "metadata": {},
   "outputs": [
    {
     "name": "stdout",
     "output_type": "stream",
     "text": [
      "def myfunc1():\n",
      "\tprint('My func 1')\n",
      "\n",
      "def myfunc2(x, y=None):\n",
      "\tif y is not None:\n",
      "\t\tprint(x, y)\n",
      "\telse:\n",
      "\t\tprint(x)\n",
      "\treturn\n",
      "My func 1\n"
     ]
    }
   ],
   "source": [
    "!cat tst/folder/deeppackage.py\n",
    "from tst.folder import deeppackage as deep1 # относительный импорт\n",
    "deep1.myfunc1()"
   ]
  },
  {
   "cell_type": "code",
   "execution_count": 15,
   "metadata": {},
   "outputs": [
    {
     "name": "stdout",
     "output_type": "stream",
     "text": [
      "My func 1\n"
     ]
    }
   ],
   "source": [
    "import sys\n",
    "sys.path.insert(0, \"tst/folder\") # добавление пути к модулю в sys.path\n",
    "import deeppackage as deep2\n",
    "deep2.myfunc1()"
   ]
  },
  {
   "cell_type": "markdown",
   "metadata": {},
   "source": [
    "* Загрузка стандартных библиотек (numpy, math и пр.), которые были предустановлены с Python либо установлены позднее с помощью pip, осуществляется точно так же с использованием конструкции `import`"
   ]
  },
  {
   "cell_type": "code",
   "execution_count": 16,
   "metadata": {},
   "outputs": [
    {
     "name": "stdout",
     "output_type": "stream",
     "text": [
      "5.0\n"
     ]
    }
   ],
   "source": [
    "import math\n",
    "print(math.sqrt(25))"
   ]
  },
  {
   "cell_type": "markdown",
   "metadata": {},
   "source": [
    "***"
   ]
  },
  {
   "cell_type": "markdown",
   "metadata": {},
   "source": [
    "## Основные типы данных"
   ]
  },
  {
   "cell_type": "markdown",
   "metadata": {},
   "source": [
    "Какими основными типами данных будем в основном пользоваться:\n",
    "* Числовые: `int` -> `float` -> `complex`\n",
    "* Логический: `bool` (`True` или `False`)\n",
    "* Строковый: `str`\n",
    "* `NoneType` и его единственный представитель: `None`\n",
    "\n",
    "Посмотреть тип переменной можно с помощью конструкции `type(var)`"
   ]
  },
  {
   "cell_type": "code",
   "execution_count": 17,
   "metadata": {},
   "outputs": [
    {
     "name": "stdout",
     "output_type": "stream",
     "text": [
      "10 <class 'int'>\n",
      "3.3333333333333335 <class 'float'>\n",
      "(2+3j) <class 'complex'>\n",
      "False <class 'bool'>\n",
      "string_value <class 'str'>\n",
      "None <class 'NoneType'>\n",
      "True True\n"
     ]
    }
   ],
   "source": [
    "x = 10\n",
    "print(x, type(x))\n",
    "y = 10 / 3\n",
    "print(y, type(y))\n",
    "z = 2 + 3j\n",
    "print(z, type(z))\n",
    "a_0 = True\n",
    "a_1 = False\n",
    "a = a_0 == a_1\n",
    "print(a, type(a))\n",
    "b = \"string_value\"\n",
    "print(b, type(b))\n",
    "c = None\n",
    "print(c, type(c))\n",
    "c_1 = c is None\n",
    "c_2 = b is not None\n",
    "print(c_1, c_2)"
   ]
  },
  {
   "cell_type": "markdown",
   "metadata": {},
   "source": [
    "А еще в Python возможны множественные сравнения, так же как и присваивания:"
   ]
  },
  {
   "cell_type": "code",
   "execution_count": 5,
   "metadata": {},
   "outputs": [
    {
     "name": "stdout",
     "output_type": "stream",
     "text": [
      "True\n",
      "10 123 123\n"
     ]
    }
   ],
   "source": [
    "varx = 10\n",
    "print(5 < varx < 15)\n",
    "vary = varz = 123\n",
    "print(varx, vary, varz)"
   ]
  },
  {
   "cell_type": "markdown",
   "metadata": {},
   "source": [
    "### Форматирование строк\n",
    "Два основных метода форматирования строк:\n",
    "* Классический метод: с помощью оператора `%` (близок к Сишному `sprintf`)\n",
    "* Усовершенствованный способ: с помощью функции `format`"
   ]
  },
  {
   "cell_type": "code",
   "execution_count": 18,
   "metadata": {},
   "outputs": [
    {
     "name": "stdout",
     "output_type": "stream",
     "text": [
      "abra 1.11 34\n",
      "abracadabra\n"
     ]
    }
   ],
   "source": [
    "s_in = \"%s %.2f %d\"\n",
    "s_out = s_in % (\"abra\", 1.1111, 34)\n",
    "t_in = '{0}{1}{0}' # в фигурных скобках будут вставляться значения из списка format с соответствующими индексами\n",
    "t_out = t_in.format('abra', 'cad') # Одинарные и двойные кавычки равнозначны\n",
    "print(s_out)\n",
    "print(t_out)\n"
   ]
  },
  {
   "cell_type": "markdown",
   "metadata": {},
   "source": [
    "***"
   ]
  },
  {
   "cell_type": "markdown",
   "metadata": {},
   "source": [
    "## Основные структуры данных"
   ]
  },
  {
   "cell_type": "markdown",
   "metadata": {},
   "source": [
    "### Кортеж (tuple)"
   ]
  },
  {
   "cell_type": "markdown",
   "metadata": {},
   "source": [
    "**Кортеж** - *неизменяемая* (нельзя вставить или удалить элементы, а также изменить их значения) последовательность данных любого типа"
   ]
  },
  {
   "cell_type": "code",
   "execution_count": 19,
   "metadata": {},
   "outputs": [
    {
     "name": "stdout",
     "output_type": "stream",
     "text": [
      "<class 'tuple'> (1, 2, 3) True True\n",
      "3 2 1\n",
      "3 1 2\n",
      "3\n"
     ]
    }
   ],
   "source": [
    "# Создание кортежа\n",
    "tup1 = (1, 2, 3) # канонический способ\n",
    "tup2 = 1, 2, 3 # создание \"на лету\"\n",
    "some_list = [1, 2, 3] # список\n",
    "tup3 = tuple(some_list) # создание из списка (см. ниже)\n",
    "print(type(tup1), tup1, tup1 == tup2, tup2 == tup3)\n",
    "\n",
    "a, b, c = tup1 # Распаковка кортежа в скалярные переменные\n",
    "print(c, b, a)\n",
    "\n",
    "b, a = a, b # Классическое применение кортежей: поменять местами значения двух или более переменных\n",
    "print(c, b, a)\n",
    "\n",
    "l = len(tup1) # Длина кортежа\n",
    "print(l)"
   ]
  },
  {
   "cell_type": "markdown",
   "metadata": {},
   "source": [
    "### Список (list) "
   ]
  },
  {
   "cell_type": "markdown",
   "metadata": {},
   "source": [
    "**Список** - *изменяемая* последовательность данных любого типа"
   ]
  },
  {
   "cell_type": "code",
   "execution_count": 20,
   "metadata": {},
   "outputs": [
    {
     "name": "stdout",
     "output_type": "stream",
     "text": [
      "<class 'list'> [1, 'a', 3.4] True\n",
      "[23, 12, 31, 3, 1, 2] True\n"
     ]
    }
   ],
   "source": [
    "# Создание списка\n",
    "s1 = [1, 'a', 3.4] # основной способ\n",
    "some_tuple = (1, 'a', 3.4) # кортеж\n",
    "s2 = list(some_tuple) # создание из кортежа (см. выше)\n",
    "print(type(s1), s1, s1 == s2)\n",
    "\n",
    "s1 = [23, 12, 31]\n",
    "s2 = [3, 1, 2]\n",
    "s12a = s1 + s2 # Объединение списков (медленно)\n",
    "s12b = s1.copy() # Копируем список\n",
    "s12b.extend(s2) # Объединение списков (быстро, но зато in-place)\n",
    "print(s12a, s12a == s12b)"
   ]
  },
  {
   "cell_type": "markdown",
   "metadata": {},
   "source": [
    "Интересна операция \"умножения\" списка `s` на натуральное число `n`: `s * n`. Оно преобразуется в сумму `n` списков `s`, после чего выполняется их объединение. В итоге получаем список `s`, повторенный `n` раз."
   ]
  },
  {
   "cell_type": "code",
   "execution_count": 21,
   "metadata": {},
   "outputs": [
    {
     "name": "stdout",
     "output_type": "stream",
     "text": [
      "[1, 2, 3, 1, 2, 3, 1, 2, 3]\n"
     ]
    }
   ],
   "source": [
    "s1 = [1, 2, 3]\n",
    "s2 = s1 * 3\n",
    "print(s2)"
   ]
  },
  {
   "cell_type": "code",
   "execution_count": 4,
   "metadata": {},
   "outputs": [
    {
     "name": "stdout",
     "output_type": "stream",
     "text": [
      "[23, 12, 31, 333]\n",
      "333 [23, 12, 31]\n",
      "12 in s1: True\n",
      "[12, 23, 31]\n",
      "[12, 31]\n",
      "min element of s1: 12\n",
      "3\n"
     ]
    }
   ],
   "source": [
    "s1 = [23, 12, 31]\n",
    "s1.append(333) # Добавляем в конец списка элемент\n",
    "print(s1)\n",
    "a = s1.pop() # Извлекаем из конца списка элемент\n",
    "print(a, s1)\n",
    "ins1 = 12 in s1 # Проверяем, есть ли элемент \"12\" в списке \n",
    "print('12 in s1:', ins1)\n",
    "s_sort = sorted(s1) # Сортировка по возрастанию; можно также применять in-place сортировку s1.sort()\n",
    "print(s_sort)\n",
    "del s_sort[1] # Удаляем второй элемент\n",
    "print(s_sort)\n",
    "print('min element of s1:', min(s1))\n",
    "\n",
    "print(len(s1))"
   ]
  },
  {
   "cell_type": "markdown",
   "metadata": {},
   "source": [
    "### Индексация в кортежах и списках"
   ]
  },
  {
   "cell_type": "markdown",
   "metadata": {},
   "source": [
    "Два различных подхода к индексации:\n",
    "* Взятие одного элемента списка `s` по его индексу `j` (отрицательные индексы означают просмотр списк справа налево): `s[j]`\n",
    "* Взятие т.н. \"среза\" - подпоследовательности, задаваемой начальным индексом (включается), конечным индексом (не включается) и шагом смещения (при отрицательном шаге идем справа налево): `s[start:end:step]`"
   ]
  },
  {
   "cell_type": "code",
   "execution_count": 23,
   "metadata": {},
   "outputs": [
    {
     "name": "stdout",
     "output_type": "stream",
     "text": [
      "5\n",
      "[2, 3]\n",
      "[1, 2]\n",
      "[4, 5]\n",
      "[1, 3, 5]\n",
      "[5, 4, 3, 2, 1]\n"
     ]
    }
   ],
   "source": [
    "s = [1, 2, 3, 4, 5]\n",
    "a = s[-1]\n",
    "print(a)\n",
    "w = s[1:3]\n",
    "print(w)\n",
    "w = s[:2] # Можно опускать начальный индекс\n",
    "print(w)\n",
    "w = s[3:] # И конечный\n",
    "print(w)\n",
    "w = s[::2] # И даже оба индекса\n",
    "print(w)\n",
    "w = s[::-1]\n",
    "print(w)"
   ]
  },
  {
   "cell_type": "markdown",
   "metadata": {},
   "source": [
    "### Словари, или хэши (dictionary)"
   ]
  },
  {
   "cell_type": "markdown",
   "metadata": {},
   "source": [
    "**Словарь** – это специальная структура данных, в которой доступ к элементу осуществляется по ключу, который может быть любым неизменяемым типом (т.е., например, кортежем быть может, а вот уже списком нет), а не только неотрицательной последовательностью целых чисел, как в случае с кортежами или списками"
   ]
  },
  {
   "cell_type": "code",
   "execution_count": 24,
   "metadata": {},
   "outputs": [
    {
     "name": "stdout",
     "output_type": "stream",
     "text": [
      "True {'key1': 1, 'key2': 'val2', 11: [32, 33]}\n",
      "{'key1': 1, 'key2': 'new_val', 11: [32, 33]}\n",
      "Keys: ['key1', 'key2', 11] Values: [1, 'new_val', [32, 33]]\n",
      "{'key1': 1, 11: [32, 33]}\n",
      "2\n",
      "True\n"
     ]
    }
   ],
   "source": [
    "# Создание словаря\n",
    "h1 = {'key1' : 1, 'key2' : 'val2', 11 : [32, 33]} # Обычный метод\n",
    "key_list = ['key1', 'key2', 11]\n",
    "value_list = [1, 'val2', [32, 33]]\n",
    "h2 = dict(zip(key_list, value_list)) # Метод создания с помощью отдельных списков ключей и значений\n",
    "print(h1 == h2, h1)\n",
    "\n",
    "h2['key2'] = 'new_val' # Доступ по ключу\n",
    "print(h2)\n",
    "\n",
    "h2_keys = list(h2.keys()) # Список ключей словаря\n",
    "h2_values = list(h2.values()) # Список значений словаря\n",
    "print('Keys:', h2_keys, 'Values:', h2_values)\n",
    "\n",
    "del h2['key2'] # Удаление элемента по ключу\n",
    "print(h2)\n",
    "\n",
    "print(len(h2)) # Длина словаря - количество пар (ключ, значение)\n",
    "\n",
    "key_in_h = 'key1' in h2 # Проверка на существование элемента с таким ключом\n",
    "print(key_in_h)"
   ]
  },
  {
   "cell_type": "markdown",
   "metadata": {},
   "source": [
    "> *Смотрите также множества (`set`) и операции над ними*"
   ]
  },
  {
   "cell_type": "markdown",
   "metadata": {},
   "source": [
    "### Ссылки и копирование"
   ]
  },
  {
   "cell_type": "markdown",
   "metadata": {},
   "source": [
    "По умолчанию в Python все является объектом. При присваивании `var1 = var2` копируется не значение переменной `var2`, а ссылка на это значение. И если для простых неизменяемых типов это не приводит к затруднению (каждое новое присваивание приводит к изменению значения только той переменной, которой присваивается значение), то в случае со списками и словарями ситуация сложнее."
   ]
  },
  {
   "cell_type": "code",
   "execution_count": 25,
   "metadata": {},
   "outputs": [
    {
     "name": "stdout",
     "output_type": "stream",
     "text": [
      "2 3\n",
      "[3, 4] [5, 6]\n",
      "[5, 10] [5, 10]\n"
     ]
    }
   ],
   "source": [
    "var1 = 1\n",
    "var2 = 2\n",
    "var1 = var2 # var1 == var2 == 2\n",
    "var2 = 3 # var1 значение не поменяет, потому что меняется ссылка в var2, а в var1 - нет\n",
    "print(var1, var2)\n",
    "arr1 = [1, 2]\n",
    "arr2 = [3, 4]\n",
    "arr1 = arr2\n",
    "arr2 = [5, 6]\n",
    "print(arr1, arr2) # Вроде все так же, как и в случае со скалярными переменными\n",
    "arr1 = arr2 # теперь оба списка равны [5, 6]\n",
    "arr2[1] = 10 # мы не меняем ссылку на список, а меняем только ссылку на второе значение \n",
    "print(arr1, arr2) # последнее значение поменялось в обоих массивах"
   ]
  },
  {
   "cell_type": "markdown",
   "metadata": {},
   "source": [
    "Борьба с такими неочевидными случаями следующая: для словарей при присваивании пользоваться методом `словарь1 = словарь2.copy()`, а в общем случае (в т.ч. и для списков) пользоваться методами `copy()` (или `deepcopy()`, если присваиваем вложенные списки) из пакета `copy`"
   ]
  },
  {
   "cell_type": "code",
   "execution_count": 26,
   "metadata": {},
   "outputs": [
    {
     "name": "stdout",
     "output_type": "stream",
     "text": [
      "[3, 4] [3, 10]\n"
     ]
    }
   ],
   "source": [
    "import copy\n",
    "arr1 = [1, 2]\n",
    "arr2 = [3, 4]\n",
    "arr1 = copy.copy(arr2) # теперь ссылки в arr1 и arr2 разные, и они никак друг с другом не связаны\n",
    "arr2[1] = 10\n",
    "print(arr1, arr2)"
   ]
  },
  {
   "cell_type": "markdown",
   "metadata": {},
   "source": [
    "Проверить, имеют ли объекты одни и те же ссылки, можно с помощью служебного слова `is`"
   ]
  },
  {
   "cell_type": "code",
   "execution_count": 27,
   "metadata": {},
   "outputs": [
    {
     "name": "stdout",
     "output_type": "stream",
     "text": [
      "[1, 2] [1, 2] True\n",
      "[1, 2] [1, 2] False\n"
     ]
    }
   ],
   "source": [
    "arr1 = [1, 2]\n",
    "arr2 = arr1\n",
    "print(arr1, arr2, arr1 is arr2)\n",
    "arr3 = copy.copy(arr1)\n",
    "print(arr1, arr3, arr1 is arr3)"
   ]
  },
  {
   "cell_type": "markdown",
   "metadata": {},
   "source": [
    "***"
   ]
  },
  {
   "cell_type": "markdown",
   "metadata": {},
   "source": [
    "## Функции"
   ]
  },
  {
   "cell_type": "markdown",
   "metadata": {},
   "source": [
    "### Определение функции и параметры вызова"
   ]
  },
  {
   "cell_type": "markdown",
   "metadata": {},
   "source": [
    "* Определение функции с помощью `def`:"
   ]
  },
  {
   "cell_type": "code",
   "execution_count": 28,
   "metadata": {},
   "outputs": [
    {
     "name": "stdout",
     "output_type": "stream",
     "text": [
      "This is my funtion!\n"
     ]
    }
   ],
   "source": [
    "def func():\n",
    "    print('This is my funtion!')\n",
    "\n",
    "func()"
   ]
  },
  {
   "cell_type": "markdown",
   "metadata": {},
   "source": [
    "* Параметры могут быть позиционными и именованными\n",
    "* Именованные должны всегда идти после позиционных\n",
    "* Именованные при вызове можно помещать в любом порядке за позиционными\n",
    "* Именованные подразумевают задание значений по умолчанию"
   ]
  },
  {
   "cell_type": "code",
   "execution_count": 29,
   "metadata": {},
   "outputs": [
    {
     "name": "stdout",
     "output_type": "stream",
     "text": [
      "x=q y=w z=1 w=2\n",
      "x=q y=w z=6 w=7\n",
      "x=q y=w z=222 w=111\n"
     ]
    }
   ],
   "source": [
    "def funcpar(x, y, z=1, u=2):\n",
    "    print('x={} y={} z={} w={}'.format(x,y,z,u))\n",
    "    \n",
    "funcpar('q', 'w') # Использование заданных по умолчанию значений\n",
    "funcpar('q', 'w', 6, 7) # Можно задавать именованные параметры как позиционные\n",
    "funcpar('q', 'w', u=111, z=222) # Можно менять местами именованные параметры"
   ]
  },
  {
   "cell_type": "markdown",
   "metadata": {},
   "source": [
    "### Возвращаемые значения"
   ]
  },
  {
   "cell_type": "markdown",
   "metadata": {},
   "source": [
    "* Возвращаемое значение определяется служебным словом `return` \n",
    "* Если `return` отсутствует, либо вызывается без аргументов, то возвращается значение `None`\n",
    "* При возвращении нескольких значений эти значения заключаются в кортеж"
   ]
  },
  {
   "cell_type": "code",
   "execution_count": 30,
   "metadata": {},
   "outputs": [
    {
     "name": "stdout",
     "output_type": "stream",
     "text": [
      "f1\n",
      "f2\n",
      "f3\n",
      "r1=None r2=None r3=(1, 2, 3)\n"
     ]
    }
   ],
   "source": [
    "def f1():\n",
    "    print('f1')\n",
    "def f2():\n",
    "    print('f2')\n",
    "    return\n",
    "def f3():\n",
    "    print('f3')\n",
    "    return 1, 2, 3\n",
    "\n",
    "r1 = f1()\n",
    "r2 = f2()\n",
    "r3 = f3()\n",
    "print('r1={} r2={} r3={}'.format(r1, r2, r3))"
   ]
  },
  {
   "cell_type": "markdown",
   "metadata": {},
   "source": [
    "### Передача по ссылке"
   ]
  },
  {
   "cell_type": "markdown",
   "metadata": {},
   "source": [
    "* Значения в функцию передаются по ссылке, но сами ссылки передаются по значению, поэтому в функции нельзя заставить ссылку из точки вызова ссылаться на другой объект:\n",
    "    * Значения сложных типов (список, словарь, объект пользовательского класса) можно изменить, не меняя ссылки => можем их менять изнутри функции\n",
    "    * Простые типы (число, строка, кортеж) нельзя изменить, не меняя ссылку на объект => не получится изменить изнутри функции"
   ]
  },
  {
   "cell_type": "code",
   "execution_count": 31,
   "metadata": {},
   "outputs": [
    {
     "name": "stdout",
     "output_type": "stream",
     "text": [
      "Func that does x += 1\n",
      "Func that does x[0] += 1\n",
      "x1=100 x2=[101, 200]\n"
     ]
    }
   ],
   "source": [
    "def fsimple(x):\n",
    "    print('Func that does x += 1')\n",
    "    x += 1\n",
    "def fcomplex(x):\n",
    "    print('Func that does x[0] += 1')\n",
    "    x[0] += 1\n",
    "\n",
    "x1 = 100\n",
    "x2 = [100, 200]\n",
    "fsimple(x1)\n",
    "fcomplex(x2)\n",
    "print('x1={} x2={}'.format(x1, x2))"
   ]
  },
  {
   "cell_type": "markdown",
   "metadata": {},
   "source": [
    "### Ссылки на функции и анонимные (лямбда) функции"
   ]
  },
  {
   "cell_type": "markdown",
   "metadata": {},
   "source": [
    "* Имя функции является ссылкой на нее\n",
    "* Лямбда-функция - это простая функция в одно выражение"
   ]
  },
  {
   "cell_type": "code",
   "execution_count": 32,
   "metadata": {},
   "outputs": [
    {
     "name": "stdout",
     "output_type": "stream",
     "text": [
      "111\n",
      "++222++\n"
     ]
    }
   ],
   "source": [
    "def myprint(x):\n",
    "    print('++{}++'.format(x))\n",
    "lis = [print, myprint] # Определяем список ссылок на функции\n",
    "lis[0](111) # Вызываем их с аргументами\n",
    "lis[1](222)"
   ]
  },
  {
   "cell_type": "code",
   "execution_count": 33,
   "metadata": {},
   "outputs": [
    {
     "name": "stdout",
     "output_type": "stream",
     "text": [
      "27\n"
     ]
    }
   ],
   "source": [
    "myf = lambda x : x*x*x # Определение лямбда-функции\n",
    "print(myf(3)) # Ее вызов"
   ]
  },
  {
   "cell_type": "markdown",
   "metadata": {},
   "source": [
    "### Упаковка и распаковка значений"
   ]
  },
  {
   "cell_type": "markdown",
   "metadata": {},
   "source": [
    "Можно в функции передавать переменное число как позиционных параметров, так и пар ключ=значение. Делается это с помощью упаковки с помощью `*` и `**`:"
   ]
  },
  {
   "cell_type": "code",
   "execution_count": 15,
   "metadata": {},
   "outputs": [
    {
     "name": "stdout",
     "output_type": "stream",
     "text": [
      "x=1, y=3, z=55\n",
      "x=111, y=222, z=6\n",
      "Usual: 1\n",
      "Tuple: (2, 3, 4)\n",
      "Dictionary: {'q': 33, 'w': 44}\n"
     ]
    }
   ],
   "source": [
    "# Распаковка при передаче (в функции думаем, что у нас заранее определенный список параметров)\n",
    "def usual_func(x, y, z):\n",
    "    print('x={}, y={}, z={}'.format(x, y, z))\n",
    "\n",
    "f_lst = [1, 3, 55]\n",
    "usual_func(*f_lst) # При этом вызов usual_func(f_lst) будет ошибкой!\n",
    "\n",
    "f_dct = {'x' : 111, 'y' : 222, 'z' : 6}\n",
    "usual_func(**f_dct) # При этом вызов usual_func(f_lst) или usual_func(f_lst) будет ошибкой!\n",
    "\n",
    "# Упаковка при передаче (в функции не знаем, сколько и каких параметров передали) \n",
    "def diff_param_func(x, *y, **z):\n",
    "    print('Usual:', x)\n",
    "    print('Tuple:', y)\n",
    "    print('Dictionary:', z)\n",
    "    \n",
    "diff_param_func(1, 2, 3, 4, q=33, w=44)"
   ]
  },
  {
   "cell_type": "markdown",
   "metadata": {},
   "source": [
    "***"
   ]
  },
  {
   "cell_type": "markdown",
   "metadata": {},
   "source": [
    "## Управляющие конструкции"
   ]
  },
  {
   "cell_type": "markdown",
   "metadata": {},
   "source": [
    "### Конструкция условия"
   ]
  },
  {
   "cell_type": "markdown",
   "metadata": {},
   "source": [
    "* Условная конструкция задается шаблоном `if-[elif]*-[else]?`, что значит:\n",
    "    * В начале конструкции: одно условие `if`\n",
    "    * Затем: ноль или больше условий `elif`\n",
    "    * В конце: ноль или одно условие `else`\n",
    "* Конструкции `switch` нет\n",
    "* Тернарный оператор: `выражение1 if условие else выражение2`"
   ]
  },
  {
   "cell_type": "code",
   "execution_count": 34,
   "metadata": {},
   "outputs": [
    {
     "name": "stdout",
     "output_type": "stream",
     "text": [
      "10 <= x < 30\n",
      "x >= 20\n"
     ]
    }
   ],
   "source": [
    "x = 23\n",
    "if x < 10:\n",
    "    print('x < 10')\n",
    "elif x < 30:\n",
    "    print('10 <= x < 30')\n",
    "else:\n",
    "    print('x >= 30')\n",
    "\n",
    "print('x < 20') if x < 20 else print('x >= 20')"
   ]
  },
  {
   "cell_type": "markdown",
   "metadata": {},
   "source": [
    "### Циклы"
   ]
  },
  {
   "cell_type": "markdown",
   "metadata": {},
   "source": [
    "* Цикл с предусловием: `while условие: тело_цикла`\n",
    "* Переборный цикл: `for i in итератор: тело_цикла`"
   ]
  },
  {
   "cell_type": "code",
   "execution_count": 35,
   "metadata": {},
   "outputs": [
    {
     "name": "stdout",
     "output_type": "stream",
     "text": [
      "while 5\n",
      "while 4\n",
      "while 3\n",
      "while 2\n",
      "while 1\n",
      "for 1\n",
      "for 2\n",
      "for 3\n"
     ]
    }
   ],
   "source": [
    "i = 5\n",
    "while i > 0:\n",
    "    print('while', i)\n",
    "    i -= 1\n",
    "\n",
    "lis = [1, 2, 3]\n",
    "for i in lis:\n",
    "    print('for', i) "
   ]
  },
  {
   "cell_type": "markdown",
   "metadata": {},
   "source": [
    "* Ходом выполнения цикла можно дополнительно управлять с помощью `break` и `continue`\n",
    "    * `break` делает аварийный выход из цикла\n",
    "    * `continue` начинает сразу следующую итерацию цикла"
   ]
  },
  {
   "cell_type": "code",
   "execution_count": 36,
   "metadata": {},
   "outputs": [
    {
     "name": "stdout",
     "output_type": "stream",
     "text": [
      "while 10\n",
      "while 9\n",
      "while 8\n",
      "while 6\n",
      "while 5\n"
     ]
    }
   ],
   "source": [
    "i = 10\n",
    "while i > 0:\n",
    "    if i == 7: # Не печатаем 7\n",
    "        i -= 1\n",
    "        continue\n",
    "    print('while', i)\n",
    "    if i == 5: # Выходим при достижении 5\n",
    "        break\n",
    "    i -= 1"
   ]
  },
  {
   "cell_type": "markdown",
   "metadata": {},
   "source": [
    "### Цикл for"
   ]
  },
  {
   "cell_type": "markdown",
   "metadata": {},
   "source": [
    "* Если итерируемый список состоит из последовательностей, то их можно сразу распаковать\n",
    "* Если необходимо знать не только значение из списка, но и его индекс, используется `enumerate(список)`\n",
    "* Для словаря используется конструкция `словарь.items()`\n",
    "* Для итераций по списку последовательных целых значений используется `range`"
   ]
  },
  {
   "cell_type": "code",
   "execution_count": 37,
   "metadata": {},
   "outputs": [
    {
     "name": "stdout",
     "output_type": "stream",
     "text": [
      "(1,2)\n",
      "(2,3)\n",
      "(6,7)\n"
     ]
    }
   ],
   "source": [
    "lis = [(1, 2), (2, 3), (6, 7)]\n",
    "for i, j in lis: # Распаковка кортежа\n",
    "    print('({},{})'.format(i, j))"
   ]
  },
  {
   "cell_type": "code",
   "execution_count": 38,
   "metadata": {},
   "outputs": [
    {
     "name": "stdout",
     "output_type": "stream",
     "text": [
      "lis[0] = 1\n",
      "lis[1] = 2\n",
      "lis[2] = 3\n"
     ]
    }
   ],
   "source": [
    "lis = [1, 2, 3]\n",
    "for ind, val in enumerate(lis): # Следим за индексами\n",
    "    print('lis[{}] = {}'.format(ind, val))"
   ]
  },
  {
   "cell_type": "code",
   "execution_count": 39,
   "metadata": {},
   "outputs": [
    {
     "name": "stdout",
     "output_type": "stream",
     "text": [
      "h[key1] = val1\n",
      "h[111] = 222\n",
      "h[key3] = 0\n",
      "h[key1] = val1\n",
      "h[111] = 222\n",
      "h[key3] = 0\n"
     ]
    }
   ],
   "source": [
    "h = {'key1' : 'val1', 111 : 222, 'key3' : 0}\n",
    "for key, val in h.items(): # Пример использования items()\n",
    "    print('h[{}] = {}'.format(key, val))\n",
    "\n",
    "# Но можно и так    \n",
    "for key in h: # В словаре итератор работает по ключам\n",
    "    print('h[{}] = {}'.format(key, h[key]))    "
   ]
  },
  {
   "cell_type": "code",
   "execution_count": 40,
   "metadata": {},
   "outputs": [
    {
     "name": "stdout",
     "output_type": "stream",
     "text": [
      "Iteration number 0\n",
      "Iteration number 1\n",
      "Iteration number 2\n"
     ]
    }
   ],
   "source": [
    "for i in range(3): # range(n) - итератор по последовательности 0..n-1\n",
    "    print('Iteration number', i)"
   ]
  },
  {
   "cell_type": "markdown",
   "metadata": {},
   "source": [
    "### List comprehensions (однострочные генераторы циклов)"
   ]
  },
  {
   "cell_type": "markdown",
   "metadata": {},
   "source": [
    "Является синтаксическим сахаром. Нужно для быстрого формирования списков или словарей с учетом прореживания по условию.\n",
    "* Простая форма для списка: `[выражение for var in последовательность if условие]`"
   ]
  },
  {
   "cell_type": "code",
   "execution_count": 41,
   "metadata": {},
   "outputs": [
    {
     "name": "stdout",
     "output_type": "stream",
     "text": [
      "[9, 16, 25] True\n"
     ]
    }
   ],
   "source": [
    "lis1 = [1, 2, 3, 4, 5]\n",
    "lis2 = [x*x for x in lis1 if x > 2]\n",
    "# Это эквивалентно\n",
    "lis3 = []\n",
    "for x in lis1:\n",
    "    if x > 2:\n",
    "        lis3.append(x*x)\n",
    "print(lis2, lis2 == lis3)"
   ]
  },
  {
   "cell_type": "markdown",
   "metadata": {},
   "source": [
    "* Вложенные циклы: `[выражение for var1 in последовательность1 for var2 in последовательность2 if условие]`"
   ]
  },
  {
   "cell_type": "code",
   "execution_count": 42,
   "metadata": {},
   "outputs": [
    {
     "name": "stdout",
     "output_type": "stream",
     "text": [
      "[-2, -4, -6, -8, -10] True\n"
     ]
    }
   ],
   "source": [
    "lis1 = [(1,-1), (2,-2), (3,-3), (4,-4), (5,-5)]\n",
    "lis2 = [2*y for x in lis1 for y in x if y < 0]\n",
    "# Это эквивалентно\n",
    "lis3 = []\n",
    "for x in lis1:\n",
    "    for y in x:\n",
    "        if y < 0:\n",
    "            lis3.append(2*y)\n",
    "print(lis2, lis2 == lis3)"
   ]
  },
  {
   "cell_type": "markdown",
   "metadata": {},
   "source": [
    "* List comprehensions для словарей: `{выражение-ключ : выражение-значение for var in последовательность if условие}`"
   ]
  },
  {
   "cell_type": "code",
   "execution_count": 43,
   "metadata": {},
   "outputs": [
    {
     "name": "stdout",
     "output_type": "stream",
     "text": [
      "{3: 9, 4: 16, 5: 25}\n"
     ]
    }
   ],
   "source": [
    "lis1 = [1, 2, 3, 4, 5]\n",
    "h = {x : x*x for x in lis1 if x > 2}\n",
    "print(h)"
   ]
  },
  {
   "cell_type": "markdown",
   "metadata": {},
   "source": [
    "* Быстрая проверка на выполнение условие для всех элементов списка (`all`) или хотя бы одного (`any`)"
   ]
  },
  {
   "cell_type": "code",
   "execution_count": 17,
   "metadata": {},
   "outputs": [
    {
     "name": "stdout",
     "output_type": "stream",
     "text": [
      "any=True, all=False\n"
     ]
    }
   ],
   "source": [
    "var_a = [1, 4, 55, 128]\n",
    "ans_any = any(x > 127 for x in var_a)\n",
    "ans_all = all(x > 127 for x in var_a)\n",
    "print('any={}, all={}'.format(ans_any, ans_all))"
   ]
  },
  {
   "cell_type": "markdown",
   "metadata": {},
   "source": [
    "***"
   ]
  },
  {
   "cell_type": "markdown",
   "metadata": {},
   "source": [
    "## Строки"
   ]
  },
  {
   "cell_type": "markdown",
   "metadata": {},
   "source": [
    "### Строки как списки"
   ]
  },
  {
   "cell_type": "markdown",
   "metadata": {},
   "source": [
    "* Строки можно понимать как массив символов\n",
    "    * Соответственно проходить по символам циклом\n",
    "    * Такая же индексация\n",
    "    * Однако списком не является - при присвоении строки ведут себя как скалярные величины, а не как списки"
   ]
  },
  {
   "cell_type": "code",
   "execution_count": 75,
   "metadata": {},
   "outputs": [
    {
     "name": "stdout",
     "output_type": "stream",
     "text": [
      "H\n",
      "e\n",
      "l\n",
      "l\n",
      "o\n",
      " \n",
      "t\n",
      "o\n",
      " \n",
      "A\n",
      "l\n",
      "l\n",
      "1st char: H\n",
      "Slice: Hello\n",
      "st = Hello to All st2 = Hello to All!!!\n"
     ]
    }
   ],
   "source": [
    "st = \"Hello to All\"\n",
    "for c in st:\n",
    "    print(c)\n",
    "print(\"1st char:\", st[0])\n",
    "print(\"Slice:\", st[:5])\n",
    "st2 = st # Копируем ссылку\n",
    "st2 += \"!!!\" # Меняем st2\n",
    "print('st =', st, 'st2 =', st2) # st не поменялась!"
   ]
  },
  {
   "cell_type": "markdown",
   "metadata": {},
   "source": [
    "### Полезные функции"
   ]
  },
  {
   "cell_type": "markdown",
   "metadata": {},
   "source": [
    "* Объединять строки с помощью одного разделителя: `разделитель.join(последовательность_строк)`\n",
    "* Разделить строку в список, используя разделитель: `строка.split(разделитель)`"
   ]
  },
  {
   "cell_type": "code",
   "execution_count": 45,
   "metadata": {},
   "outputs": [
    {
     "name": "stdout",
     "output_type": "stream",
     "text": [
      "Hello_to_all\n"
     ]
    }
   ],
   "source": [
    "st_list1 = ['Hello', 'to', 'all']\n",
    "st1 = '_'.join(st_list1)\n",
    "print(st1)"
   ]
  },
  {
   "cell_type": "code",
   "execution_count": 46,
   "metadata": {},
   "outputs": [
    {
     "name": "stdout",
     "output_type": "stream",
     "text": [
      "['Hello', 'to', 'all']\n"
     ]
    }
   ],
   "source": [
    "st2 = 'Hello,to,all'\n",
    "st_list2 = st2.split(',')\n",
    "print(st_list2)"
   ]
  },
  {
   "cell_type": "markdown",
   "metadata": {},
   "source": [
    "* Найти подстроку: `строка.find(подстрока)`\n",
    "* Заменить подстроку: `строка.replace(подстрока_old, подстрока_new)`\n",
    "* Проверка на вхождение (индекс не нужен): с помощью оператора `in`\n",
    "* Наиболее гибко можно работать со строками в модуле регулярных выражений `re`"
   ]
  },
  {
   "cell_type": "code",
   "execution_count": 2,
   "metadata": {},
   "outputs": [
    {
     "name": "stdout",
     "output_type": "stream",
     "text": [
      "Index of \"lo\": 3\n",
      "Index of \"hi\": -1\n",
      "\"to\" is in string: True\n",
      "Replace \"all\" -> \"you\": Hello to you\n"
     ]
    }
   ],
   "source": [
    "st = 'Hello to all'\n",
    "print('Index of \"lo\":', st.find('lo')) # индекс подстроки\n",
    "print('Index of \"hi\":', st.find('hi')) # или -1, если такой нет\n",
    "print('\"to\" is in string:', 'to' in st)\n",
    "print('Replace \"all\" -> \"you\":', st.replace('all', 'you'))"
   ]
  },
  {
   "cell_type": "markdown",
   "metadata": {},
   "source": [
    "***"
   ]
  },
  {
   "cell_type": "markdown",
   "metadata": {},
   "source": [
    "## Системные функции"
   ]
  },
  {
   "cell_type": "markdown",
   "metadata": {},
   "source": [
    "### Полезные строковые функции для работы с путями файловой системы"
   ]
  },
  {
   "cell_type": "markdown",
   "metadata": {},
   "source": [
    "* Такие полезные функции работы со строками, содержащими путь, как получение абсолютного или относительного пути, получение родительской директории или, наоборот, только имени файла, реализуются в модуле `os` или `os.path`"
   ]
  },
  {
   "cell_type": "code",
   "execution_count": 47,
   "metadata": {},
   "outputs": [
    {
     "name": "stdout",
     "output_type": "stream",
     "text": [
      "Abs: /Users/alex/Programming/teach/ml2019 Rel: .\n",
      "/Users/alex/Programming/teach\n",
      "../path/file.txt = ../path + file.txt\n",
      "../path/file.txt = ../path + file.txt\n",
      "-rw-r--r--  1 alex  staff  119 12 фев 23:11 mypackage.py\n",
      "This is file\n",
      "/path/file.txt\n"
     ]
    }
   ],
   "source": [
    "import os\n",
    "\n",
    "cur_dir = os.getcwd() # Текущая директория\n",
    "r_path = os.path.relpath(cur_dir) # Относительный путь\n",
    "print('Abs:', cur_dir, 'Rel:', r_path)\n",
    "\n",
    "rel_path = '..' # Относительный путь (родительская директори)\n",
    "abs_path = os.path.abspath(rel_path) # Абсолютный путь\n",
    "print(abs_path)\n",
    "\n",
    "p = '../path/file.txt'\n",
    "file_name = os.path.basename(p) # Выделяем имя файла\n",
    "parent_name = os.path.dirname(p) # Выделяем путь до файла\n",
    "print(p, '=', parent_name, '+', file_name)\n",
    "p_dir, p_file = os.path.split(p) # Выделение одновременно имени файла и пути до файла\n",
    "print(p, '=', p_dir, '+', p_file)\n",
    "\n",
    "!ls -l mypackage.py\n",
    "path_real = 'mypackage.py'\n",
    "if os.path.exists(path_real): # Проверка: существует ли путь\n",
    "    if os.path.isfile(path_real): # Это файл?\n",
    "        print('This is file')\n",
    "    elif os.path.isdir(path_real): # Это директория?\n",
    "        print('This is dir')\n",
    "    else:\n",
    "        print('What???')\n",
    "else:\n",
    "    print('File doesnt exist')\n",
    "\n",
    "p1 = '/'\n",
    "p2 = 'path'\n",
    "p3 = 'file.txt'\n",
    "d = os.path.join(p1, p2, p3) # Конструируем путь из частей с учетом разделителя пути файловой системы\n",
    "print(d)"
   ]
  },
  {
   "cell_type": "markdown",
   "metadata": {},
   "source": [
    "### Другие системные функции для работы с файлами и папками"
   ]
  },
  {
   "cell_type": "code",
   "execution_count": 48,
   "metadata": {},
   "outputs": [
    {
     "name": "stdout",
     "output_type": "stream",
     "text": [
      "ru_RU.UTF-8\n",
      "['file.txt']\n",
      "/Users/alex/Programming/teach/ml2019/new_path\n",
      "['file.txt.bak']\n",
      "[]\n"
     ]
    }
   ],
   "source": [
    "env_lang = os.getenv('LANG') # Посмотреть переменную окружения (все перечислены в словаре os.environ)\n",
    "print(env_lang) # Изменить можно с помощью os.putenv(key, value)\n",
    "\n",
    "new_path = 'new_path'\n",
    "new_file = 'file.txt'\n",
    "os.system('rm -rf ' + new_path) # Выполнение системной команды\n",
    "\n",
    "os.mkdir(new_path) # Создание директории\n",
    "os.system('touch ' + os.path.join(new_path, new_file)) # Выполнение системной команды (создание пустого файла)\n",
    "path_content = os.listdir(new_path) # Смотрим содержимое директории\n",
    "print(path_content)\n",
    "\n",
    "os.chdir(new_path) # Сменить рабочий каталог\n",
    "print(os.getcwd())\n",
    "os.rename(new_file, new_file + '.bak') # Переименование файла\n",
    "print(os.listdir('.'))\n",
    "os.remove(new_file + '.bak') # Удалить файл\n",
    "os.chdir('..')\n",
    "print(os.listdir(new_path))\n",
    "os.rmdir(new_path) # Удалить каталог"
   ]
  },
  {
   "cell_type": "markdown",
   "metadata": {},
   "source": [
    "### Рекурсивный обход каталога"
   ]
  },
  {
   "cell_type": "code",
   "execution_count": 49,
   "metadata": {},
   "outputs": [
    {
     "name": "stdout",
     "output_type": "stream",
     "text": [
      "Root: .\n",
      "Files: ['fio.txt', 'fio1.txt', 'fio2.txt', 'my_b.npy', 'my_b.txt', 'my_b_none.txt', 'my_plot.png', 'mypackage.py', 'mypackage2.py', 'Python_intro.ipynb']\n",
      "Dirs: ['.ipynb_checkpoints', 'tst']\n",
      "Root: ./.ipynb_checkpoints\n",
      "Files: ['Python_intro-checkpoint.ipynb']\n",
      "Dirs: []\n",
      "Root: ./tst\n",
      "Files: []\n",
      "Dirs: ['folder']\n",
      "Root: ./tst/folder\n",
      "Files: ['deeppackage.py']\n",
      "Dirs: []\n"
     ]
    }
   ],
   "source": [
    "for root, dirs, files in os.walk(\".\"): \n",
    "    print('Root:', root) # Каталог, в котором сейчас находимся\n",
    "    print('Files:', files) # Содержащиеся непосредственно в нем файлы\n",
    "    print('Dirs:', dirs) # Содержащиеся в нем директории первого уровня"
   ]
  },
  {
   "cell_type": "markdown",
   "metadata": {},
   "source": [
    "### Простейший ввод-вывод"
   ]
  },
  {
   "cell_type": "markdown",
   "metadata": {},
   "source": [
    "* С функцией вывода на экран `print` вы уже знакомы. Для считывания данных с клавиатуры используется `input`"
   ]
  },
  {
   "cell_type": "code",
   "execution_count": 50,
   "metadata": {},
   "outputs": [
    {
     "name": "stdout",
     "output_type": "stream",
     "text": [
      "Enter string: Hello cruel world\n",
      "You entered: Hello cruel world\n"
     ]
    }
   ],
   "source": [
    "s = input('Enter string: ')\n",
    "print('You entered:', s)"
   ]
  },
  {
   "cell_type": "markdown",
   "metadata": {},
   "source": [
    "* Для работы с файлами используются стандартные функции `open()` и `close()`.\n",
    "    * Открыть файл: `файловый_дескриптор = open(имя_файла, флаги)`\n",
    "    * Флаги: 't' - текстовый (по умолчанию) или 'b' - бинарный, 'r', 'w', 'a' - открыть для чтения, записи, или добавления в конец\n",
    "    * Закрыть файл можно как `файловый_дескриптор.close()` либо при выходе из оператора контекста `with`"
   ]
  },
  {
   "cell_type": "code",
   "execution_count": 51,
   "metadata": {},
   "outputs": [],
   "source": [
    "f = open('fio.txt', 'w') # Открываем файл\n",
    "# Совершаем файловые операции\n",
    "f.close() # Закрываем файл\n",
    "\n",
    "# Или то же самое, но проще\n",
    "with open(\"fio.txt\", 'w') as f: # Используем оператор контекста\n",
    "    # Совершаем файловые операции\n",
    "    pass # Обозначение пустого блока\n",
    "# На выходе из блока 'with' файл уже закрыт"
   ]
  },
  {
   "cell_type": "markdown",
   "metadata": {},
   "source": [
    "* Запись в файл можно сделать двумя способами\n",
    "    * `print(строка, file=файловый_дескриптор)`\n",
    "    * `файловый_дескриптор.write(строка)`"
   ]
  },
  {
   "cell_type": "code",
   "execution_count": 52,
   "metadata": {},
   "outputs": [
    {
     "name": "stdout",
     "output_type": "stream",
     "text": [
      "Hello,\n",
      "World!\n",
      "Hello,\n",
      "World!"
     ]
    }
   ],
   "source": [
    "str1 = 'Hello,'\n",
    "str2 = 'World!'\n",
    "with open('fio1.txt', 'w') as f:\n",
    "    print(str1, file=f)\n",
    "    print(str2, file=f)\n",
    "with open('fio2.txt', 'w') as f:\n",
    "    f.write(str1 + '\\n') # write не добавляет перевод строки\n",
    "    f.write(str2)\n",
    "!cat fio1.txt\n",
    "!cat fio2.txt"
   ]
  },
  {
   "cell_type": "markdown",
   "metadata": {},
   "source": [
    "* Чтение из файла лучше делать построчно\n",
    "    * Пройтись циклом по строкам: `for переменная in дескриптор_файла` \n",
    "    * Можно сразу получить все строки: `дескриптор_файла.readlines()`"
   ]
  },
  {
   "cell_type": "code",
   "execution_count": 53,
   "metadata": {},
   "outputs": [
    {
     "name": "stdout",
     "output_type": "stream",
     "text": [
      "Hello,\n",
      "World!\n",
      "['Hello,\\n', 'World!']\n"
     ]
    }
   ],
   "source": [
    "with open('fio1.txt', 'r') as f:\n",
    "    for line in f:\n",
    "        print(line, end='') \n",
    "        # В прочитанных строках есть перевод строки, поэтому не будем переводить строки после print\n",
    "with open('fio2.txt', 'r') as f:\n",
    "    lines = f.readlines()\n",
    "    print(lines)"
   ]
  },
  {
   "cell_type": "markdown",
   "metadata": {},
   "source": [
    "***"
   ]
  },
  {
   "cell_type": "markdown",
   "metadata": {},
   "source": [
    "## Основные отличия Python 2.7 и Python 3.x"
   ]
  },
  {
   "cell_type": "markdown",
   "metadata": {},
   "source": [
    "### Целочисленное деление"
   ]
  },
  {
   "cell_type": "markdown",
   "metadata": {},
   "source": [
    "* В Python 2.7 (так же как и в Си), если делимое и делитель являются целыми числами, то результат - тоже целое число (т.е. результатом операции `3 / 2` будет `1`)\n",
    "* В Python 3.x результат операции всегда считается \"честно\", т.е. результатом операции `3 / 2` будет `1.5`\n",
    "    * Если же вы хотите исопльзовать целочисленное деление в Python 3.x, то можно использовать оператор `//`: результатом операции `3 // 2` будет `1`"
   ]
  },
  {
   "cell_type": "markdown",
   "metadata": {},
   "source": [
    "### Функция print"
   ]
  },
  {
   "cell_type": "markdown",
   "metadata": {},
   "source": [
    "* В Python 2.7 скобки для функции print необязательны - можно писать как `print x`, так и `print(x)`\n",
    "* В Python 3.x скобки для функции print обязательны - можно писать только `print(x)`"
   ]
  },
  {
   "cell_type": "markdown",
   "metadata": {},
   "source": [
    "### Округление"
   ]
  },
  {
   "cell_type": "markdown",
   "metadata": {},
   "source": [
    "* В Python 2.7 дробная часть \".5\" всегда оруглялась в большую сторону: `round(2.5) = 3.0`  \n",
    "* В Python 3.x округление стало хитрее - теперь \".5\" округляется в сторону ближайшего четного числа: `round(2.5) = 2`"
   ]
  },
  {
   "cell_type": "markdown",
   "metadata": {},
   "source": [
    "### Преобразование типов пользовательского ввода"
   ]
  },
  {
   "cell_type": "markdown",
   "metadata": {},
   "source": [
    "* В Python 2.7 функция `input()` пыталась сделать преобразование типов, в то время как `raw_input()` возвращала просто строку, которую пользователь должен был разбирать самостоятельно\n",
    "* В Python 3.x осталась только одна функция `input()`, которая возвращает строку без каких-либо преобразований"
   ]
  },
  {
   "cell_type": "markdown",
   "metadata": {},
   "source": [
    "### Маскировка Python 2.7 под Python 3.x"
   ]
  },
  {
   "cell_type": "markdown",
   "metadata": {},
   "source": [
    "Можно использовать большую часть кода Python 3.x (особенно  если там отличия только в print и в операции деления) и в Python 2.7, если воспользоваться в Python 2.7 следующими конструкциями:"
   ]
  },
  {
   "cell_type": "code",
   "execution_count": 54,
   "metadata": {},
   "outputs": [],
   "source": [
    "from __future__ import division\n",
    "from __future__ import print_function"
   ]
  },
  {
   "cell_type": "markdown",
   "metadata": {},
   "source": [
    "***\n",
    "***"
   ]
  },
  {
   "cell_type": "markdown",
   "metadata": {},
   "source": [
    "# Numpy"
   ]
  },
  {
   "cell_type": "markdown",
   "metadata": {},
   "source": [
    "**Numpy** - это главная библиотека для научных расчетов в Python. В целом, очень похожа на **MatLab**. Ее основа - многомерные массивы, а также набор функций для удобной работы с ними.\n",
    "\n",
    "*Замечание*. В данной презентации будут изложены наиболее важные и необходимые моменты, детальную информацию по библиотеке можно получить, сверившись с cheatsheet."
   ]
  },
  {
   "cell_type": "markdown",
   "metadata": {},
   "source": [
    "### Создание массивов из списков и стандартные массивы"
   ]
  },
  {
   "cell_type": "code",
   "execution_count": 55,
   "metadata": {},
   "outputs": [],
   "source": [
    "import numpy as np # импорт numpy\n",
    "\n",
    "a = np.array([1, 2, 3]) # создание одномерного массива из плоского списка\n",
    "b = np.array([[1.5, 2, 3], [4, 5, 6]]) # создание двухмерного массива 2x3 из списка списков\n",
    "c = np.array([[[1.5, 2, 3], [4, 5, 6]], [[3, 2, 1], [4, 5, 6]]], dtype=np.float32) # Массив\n",
    "# создание трехмерного массива 2x2x3 (3 - внутренняя размерность) и явное задание типа массива"
   ]
  },
  {
   "cell_type": "code",
   "execution_count": 56,
   "metadata": {},
   "outputs": [],
   "source": [
    "x = np.zeros((3, 4)) # нулевой массив размера 3x4\n",
    "y = np.ones((2, 3, 4), dtype=np.int64) # трехмерный массив из единиц"
   ]
  },
  {
   "cell_type": "markdown",
   "metadata": {},
   "source": [
    "### Метрики размера массива\n",
    "* В Numpy существует целый ряд характеристик размера массива\n",
    "    * `shape`: количество элементов по каждой из размерностей\n",
    "    * `len`: количество элементов в первой (\"внешней\") размерности\n",
    "    * `ndim`: размерность\n",
    "    * `size`: полное количество элементов (объем)"
   ]
  },
  {
   "cell_type": "code",
   "execution_count": 57,
   "metadata": {},
   "outputs": [
    {
     "name": "stdout",
     "output_type": "stream",
     "text": [
      "Shape = (2, 2, 3) Length = 2 NDim = 3 Size = 12\n"
     ]
    }
   ],
   "source": [
    "print(\"Shape =\", c.shape, \"Length =\", len(c), \"NDim =\", c.ndim, \"Size =\", c.size)"
   ]
  },
  {
   "cell_type": "markdown",
   "metadata": {},
   "source": [
    "### Операции над массивами\n",
    "* Поэлементные арифметические операции выполняются с помощью переопределенных операторов `+ - * /`"
   ]
  },
  {
   "cell_type": "code",
   "execution_count": 58,
   "metadata": {},
   "outputs": [
    {
     "name": "stdout",
     "output_type": "stream",
     "text": [
      "[3 6 9]\n"
     ]
    }
   ],
   "source": [
    "print(a*3)"
   ]
  },
  {
   "cell_type": "markdown",
   "metadata": {},
   "source": [
    "* Главная матричная операция - умножение, выполняется с помощью функции `matmul`"
   ]
  },
  {
   "cell_type": "code",
   "execution_count": 59,
   "metadata": {},
   "outputs": [
    {
     "name": "stdout",
     "output_type": "stream",
     "text": [
      "[3. 3.]\n"
     ]
    }
   ],
   "source": [
    "x = np.ones((3)) # вектор размера 3\n",
    "A = np.ones((2, 3)) # матрица размера 2x3\n",
    "Ax = np.matmul(A, x) # результат - вектор размера 2\n",
    "print(Ax)"
   ]
  },
  {
   "cell_type": "markdown",
   "metadata": {},
   "source": [
    "* Также часто применяется транспонирование матрицы"
   ]
  },
  {
   "cell_type": "code",
   "execution_count": 60,
   "metadata": {},
   "outputs": [
    {
     "name": "stdout",
     "output_type": "stream",
     "text": [
      "[[1.5 2.  3. ]\n",
      " [4.  5.  6. ]]\n",
      "[[1.5 4. ]\n",
      " [2.  5. ]\n",
      " [3.  6. ]]\n"
     ]
    }
   ],
   "source": [
    "print(b)\n",
    "print(b.T) # транспонируем"
   ]
  },
  {
   "cell_type": "markdown",
   "metadata": {},
   "source": [
    "* Обращение матрицы происходит с помощью функции `linalg.inv()`\n",
    "* А детерминант - с помощью `linalg.det()`"
   ]
  },
  {
   "cell_type": "code",
   "execution_count": 61,
   "metadata": {},
   "outputs": [
    {
     "name": "stdout",
     "output_type": "stream",
     "text": [
      "matr = [[1 2]\n",
      " [3 4]]\n",
      "matr^-1 = [[-2.   1. ]\n",
      " [ 1.5 -0.5]]\n",
      "det(matr) = -2.0000000000000004\n"
     ]
    }
   ],
   "source": [
    "matr = np.array([[1, 2], [3, 4]])\n",
    "print('matr =', matr)\n",
    "print('matr^-1 =', np.linalg.inv(matr))\n",
    "print('det(matr) =', np.linalg.det(matr))"
   ]
  },
  {
   "cell_type": "markdown",
   "metadata": {},
   "source": [
    "* А систему линейных уравнений можно решить с помощью `linalg.solve()`"
   ]
  },
  {
   "cell_type": "code",
   "execution_count": 62,
   "metadata": {},
   "outputs": [
    {
     "name": "stdout",
     "output_type": "stream",
     "text": [
      "x = [-1.  1.]\n"
     ]
    }
   ],
   "source": [
    "svob = np.array([1, 1])\n",
    "x = np.linalg.solve(matr, svob)\n",
    "print('x =', x)"
   ]
  },
  {
   "cell_type": "markdown",
   "metadata": {},
   "source": [
    "### Broadcasting (бродкастинг)\n",
    "1. Если размерность `ndim` массивов не совпадает, то все недостающие внешние (первые) размерности меньшего массива становятся равными 1\n",
    "2. Если соответствующие размерности `shape` массивов не совпадают, но при этом в одном массиве это значение равно 1, то оно увеличивается до размерности второго простым копированием значений в этой размерности\n",
    "    * В противном случае будет ошибка `ValueError: frames are not aligned` "
   ]
  },
  {
   "cell_type": "code",
   "execution_count": 63,
   "metadata": {},
   "outputs": [
    {
     "name": "stdout",
     "output_type": "stream",
     "text": [
      "(3,) : [1 2 3]\n",
      "(2, 3) : [[1.5 2.  3. ]\n",
      " [4.  5.  6. ]]\n"
     ]
    }
   ],
   "source": [
    "print(a.shape, ':', a)\n",
    "print(b.shape, ':', b)"
   ]
  },
  {
   "cell_type": "markdown",
   "metadata": {},
   "source": [
    "При арифметической операции `a+b` мы имеем: `a` размерности 3, `b` размерности 2x3. Дополняем внешние размерности для `a`: 1x3. Теперь по первой размерности у `a` имеем 1, а у `b` - 3. Теперь копированием \"раздуваем\" массив `a` до размерности 2x3. И уже теперь выполняем поэлементное сложение."
   ]
  },
  {
   "cell_type": "code",
   "execution_count": 64,
   "metadata": {},
   "outputs": [
    {
     "name": "stdout",
     "output_type": "stream",
     "text": [
      "[[2.5 4.  6. ]\n",
      " [5.  7.  9. ]]\n"
     ]
    }
   ],
   "source": [
    "print(a+b) # После \"бродкаста\" складываем a по очереди с первой и второй строкой b"
   ]
  },
  {
   "cell_type": "markdown",
   "metadata": {},
   "source": [
    "### Индексация и срезы"
   ]
  },
  {
   "cell_type": "markdown",
   "metadata": {},
   "source": [
    "* К элементу `(i1, i2,...,in)` `n`-мерного массива `a` можно обратиться тремя способами:\n",
    "    * `a[i1][i2]...[in]`\n",
    "    * `a[i1, i2,...,in]`\n",
    "    * `a[(i1, i2,...,in)]`\n",
    "* Если массив имеет размерность `n`, а при его вызове указывается только `k < n` координат, то результатом будет `(n-k)`-мерный массив\n",
    "* Указание символа `:` вместо координаты  означает \"взять все элементы в этой размерности\"\n",
    "* Указание символа `...` вместо координаты  означает \"заменить все остальные координаты на `:`\"\n",
    "* Кстати, новую размерность можно создавать самостоятельно с помощью `newaxis`"
   ]
  },
  {
   "cell_type": "code",
   "execution_count": 65,
   "metadata": {},
   "outputs": [
    {
     "name": "stdout",
     "output_type": "stream",
     "text": [
      "b = [[1.5 2.  3. ]\n",
      " [4.  5.  6. ]]\n",
      "6.0\n",
      "6.0\n",
      "6.0\n",
      "[4. 5. 6.]\n",
      "[2. 5.]\n",
      "c = [[[1.5 2.  3. ]\n",
      "  [4.  5.  6. ]]\n",
      "\n",
      " [[3.  2.  1. ]\n",
      "  [4.  5.  6. ]]]\n",
      "[[3. 6.]\n",
      " [1. 6.]]\n",
      "3d b = [[[1.5 2.  3. ]\n",
      "  [4.  5.  6. ]]]\n"
     ]
    }
   ],
   "source": [
    "print('b =', b)\n",
    "print(b[1][2])\n",
    "print(b[1, 2])\n",
    "print(b[(1, 2)])\n",
    "\n",
    "print(b[1])\n",
    "print(b[:, 1])\n",
    "\n",
    "print('c =', c)\n",
    "print(c[...,2])\n",
    "\n",
    "print('3d b =', b[np.newaxis, ...])"
   ]
  },
  {
   "cell_type": "markdown",
   "metadata": {},
   "source": [
    "* Логическая индексация: `a[a_bool]`, где `a_bool` - массив типа `bool` такого же `shape`, как и `a`. На выходе будет одномерный массив тех элементов `a`, соответствующие координаты которых в `a_bool` заняты `True`\n",
    "* Списковая индексация: `b[x, y]`, где `x, y` - обычные списки одинаковой длины `n`, означает одномерный массив `c = [b[x[0], y[0]], b[x[1], y[1]], ..., b[x[n-1], y[n-1]]]`"
   ]
  },
  {
   "cell_type": "code",
   "execution_count": 66,
   "metadata": {},
   "outputs": [
    {
     "name": "stdout",
     "output_type": "stream",
     "text": [
      "b = [[1.5 2.  3. ]\n",
      " [4.  5.  6. ]]\n",
      "b[b > 2] = [3. 4. 5. 6.]\n",
      "b[x, y] = [5. 3.]\n"
     ]
    }
   ],
   "source": [
    "print('b =', b)\n",
    "print('b[b > 2] =', b[b >2])\n",
    "x = [1, 0]\n",
    "y = [1, 2]\n",
    "print('b[x, y] =', b[x, y])"
   ]
  },
  {
   "cell_type": "markdown",
   "metadata": {},
   "source": [
    "### Numpy IO"
   ]
  },
  {
   "cell_type": "markdown",
   "metadata": {},
   "source": [
    "* Сохранить / прочитать массивы numpy: `np.save()` / `np.load()`\n",
    "* Сохранить в текстовом формате: `np.savetxt`\n",
    "* Загрузить `csv` (учитывая пропущенные значения, которые будут заменены на `nan`): `np.genfromtxt()`"
   ]
  },
  {
   "cell_type": "code",
   "execution_count": 67,
   "metadata": {},
   "outputs": [
    {
     "name": "stdout",
     "output_type": "stream",
     "text": [
      "b = [[1.5 2.  3. ]\n",
      " [4.  5.  6. ]]\n",
      "-rw-r--r--  1 alex  staff  176 12 фев 23:11 my_b.npy\n",
      "q = [[1.5 2.  3. ]\n",
      " [4.  5.  6. ]]\n"
     ]
    }
   ],
   "source": [
    "print('b =', b)\n",
    "np.save('my_b', b)\n",
    "!ls -l my_b.npy\n",
    "q = np.load('my_b.npy')\n",
    "print('q =', q)"
   ]
  },
  {
   "cell_type": "code",
   "execution_count": 68,
   "metadata": {},
   "outputs": [
    {
     "name": "stdout",
     "output_type": "stream",
     "text": [
      "1.500000000000000000e+00,2.000000000000000000e+00,3.000000000000000000e+00\r\n",
      "4.000000000000000000e+00,5.000000000000000000e+00,6.000000000000000000e+00\r\n"
     ]
    }
   ],
   "source": [
    "np.savetxt('my_b.txt', b, delimiter=',')\n",
    "!cat my_b.txt"
   ]
  },
  {
   "cell_type": "code",
   "execution_count": 69,
   "metadata": {},
   "outputs": [
    {
     "name": "stdout",
     "output_type": "stream",
     "text": [
      "1.5,,3\n",
      ",5,\n",
      "w = [[1.5 nan 3. ]\n",
      " [nan 5.  nan]]\n",
      "[[False  True False]\n",
      " [ True False  True]]\n"
     ]
    }
   ],
   "source": [
    "!echo \"1.5,,3\\n,5,\" > 'my_b_none.txt'\n",
    "!cat my_b_none.txt\n",
    "w = np.genfromtxt('my_b_none.txt', delimiter=',')\n",
    "print('w =', w)\n",
    "print(np.isnan(w))"
   ]
  },
  {
   "cell_type": "markdown",
   "metadata": {},
   "source": [
    "***\n",
    "***"
   ]
  },
  {
   "cell_type": "markdown",
   "metadata": {},
   "source": [
    "# Визуализация с помощью matplotlib"
   ]
  },
  {
   "cell_type": "markdown",
   "metadata": {},
   "source": [
    "**matplotlib** - это основная библиотека для визуализации данных в Python. Так же, как и Numpy, ее синтаксис очень похож на таковой в MatLab. \n",
    "\n",
    "*Замечание 1*. В данной презентации будут изложены наиболее важные и необходимые моменты, детальную информацию по библиотеке можно получить, сверившись с cheatsheet.\n",
    "\n",
    "*Замечание 2*. Для работы именно с картинками лучше подойдут библиотеки **Pillow** и **scikit-image**."
   ]
  },
  {
   "cell_type": "markdown",
   "metadata": {},
   "source": [
    "### Простой пример визуализации"
   ]
  },
  {
   "cell_type": "markdown",
   "metadata": {},
   "source": [
    "* Есть два метода подключения matplotlib: один для консольных скриптов, другой - для работы в jupyter-ноутбуке"
   ]
  },
  {
   "cell_type": "code",
   "execution_count": 70,
   "metadata": {},
   "outputs": [],
   "source": [
    "# 1. Подключение самой бибилиотеки\n",
    "import matplotlib.pyplot as plt \n",
    "# 2. Заставляем ее рисовать прямо в ноутбуке\n",
    "%matplotlib inline "
   ]
  },
  {
   "cell_type": "markdown",
   "metadata": {},
   "source": [
    "* Нарисуем график и гистограмму\n",
    "    * Линии рисуются с помощью `plt()`\n",
    "    * Гистограмма рисуется с помощью `hist()`\n",
    "    * Подпись к графикам задается с помощью `legend()`\n",
    "    * Итоговое отображение на экран с помощью `show()`"
   ]
  },
  {
   "cell_type": "code",
   "execution_count": 71,
   "metadata": {},
   "outputs": [
    {
     "data": {
      "image/png": "[encoded data removed]",
      "text/plain": [
       "<Figure size 432x288 with 1 Axes>"
      ]
     },
     "metadata": {
      "needs_background": "light"
     },
     "output_type": "display_data"
    }
   ],
   "source": [
    "mu, sigma = 0, 0.1 # Среднее и с.к.о. нормального распределения\n",
    "random_samples = np.random.normal(mu, sigma, 1000) # Генерируем 1000 случайных чисел из нормального распределения\n",
    "\n",
    "plt.hist(random_samples, 30, density=True, label='Empirical') # Нормированная гистограмма из 30 столбиков\n",
    "\n",
    "x = np.linspace(-0.3, 0.3, num=100) # Генерируем 100 равномерно расставленных точек на отрезке [-0.3, 0.3]\n",
    "y = 1/(sigma * np.sqrt(2 * np.pi)) * np.exp( - (x - mu)**2 / (2 * sigma**2) ) # Нормальное распределение по формуле\n",
    "\n",
    "plt.plot(x, y, linewidth=2, color='r', label='Analytical') # Рисуем линию по паре (x, y)\n",
    "\n",
    "plt.xlabel('x') # Подписываем оси\n",
    "plt.ylabel('Probability density p(x)')\n",
    "\n",
    "plt.legend() # Рисуем подписи к графикам (заданы ранее с помощью label=...)\n",
    "\n",
    "fig_my = plt.gcf() # Сохраним фигуру до отрисовки (т.к. после отрисовки текущая фигура сбросится)\n",
    "\n",
    "plt.show() # Отображаем на экране"
   ]
  },
  {
   "cell_type": "markdown",
   "metadata": {},
   "source": [
    "### Ввод-вывод в matplotlib"
   ]
  },
  {
   "cell_type": "markdown",
   "metadata": {},
   "source": [
    "* Можно сохранять и загружать графики\n",
    "    * С помощью `savefig()` происходит сохранение на диск\n",
    "    * С помощью `imread()` происходит загрузка с диска (только формат .png; остальные форматы нужно загружать с помощью библиотек Pillow / sciki-image)\n",
    "    * С помощью `imshow()` происходит отрисовка картинки "
   ]
  },
  {
   "cell_type": "code",
   "execution_count": 72,
   "metadata": {},
   "outputs": [
    {
     "data": {
      "image/png": "[encoded data removed]",
      "text/plain": [
       "<Figure size 432x288 with 1 Axes>"
      ]
     },
     "metadata": {
      "needs_background": "light"
     },
     "output_type": "display_data"
    }
   ],
   "source": [
    "import matplotlib.image as mpimg # для загрузки png-картинок\n",
    "\n",
    "fig_my.savefig('my_plot.png') # сохраняем график, который мы раньше запомнили, на диск\n",
    "\n",
    "img = mpimg.imread('my_plot.png') # загружаем с диска сохраненную картинку\n",
    "plt.imshow(img) # рисуем загруженную картинку\n",
    "\n",
    "plt.show() # Отображаем на экране"
   ]
  },
  {
   "cell_type": "markdown",
   "metadata": {},
   "source": [
    "***\n",
    "***"
   ]
  },
  {
   "cell_type": "markdown",
   "metadata": {},
   "source": [
    "# Видео-ресурсы по Python"
   ]
  },
  {
   "cell_type": "markdown",
   "metadata": {},
   "source": [
    "* Курс на stepik: https://stepik.org/course/67/\n",
    "* Курс на youtube: https://www.youtube.com/playlist?list=PLTZsxV2p70CA8T1y654O_7RcNVs3ii4xr"
   ]
  },
  {
   "cell_type": "code",
   "execution_count": null,
   "metadata": {},
   "outputs": [],
   "source": []
  }
 ],
 "metadata": {
  "kernelspec": {
   "display_name": "Python 3",
   "language": "python",
   "name": "python3"
  },
  "language_info": {
   "codemirror_mode": {
    "name": "ipython",
    "version": 3
   },
   "file_extension": ".py",
   "mimetype": "text/x-python",
   "name": "python",
   "nbconvert_exporter": "python",
   "pygments_lexer": "ipython3",
   "version": "3.7.2"
  }
 },
 "nbformat": 4,
 "nbformat_minor": 2
}
